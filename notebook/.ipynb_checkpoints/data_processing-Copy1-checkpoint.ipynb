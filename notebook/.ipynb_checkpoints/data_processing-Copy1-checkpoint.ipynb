{
 "cells": [
  {
   "cell_type": "code",
   "execution_count": 201,
   "metadata": {
    "id": "omdqUXBhCHhh"
   },
   "outputs": [],
   "source": [
    "import pandas as pd\n",
    "import json\n"
   ]
  },
  {
   "cell_type": "code",
   "execution_count": 202,
   "metadata": {
    "id": "_ijgKm2sCHhu"
   },
   "outputs": [],
   "source": [
    "FOLDER_PATH = \"../data/metadata/\"\n",
    "val_json = FOLDER_PATH + \"meta.json\"\n",
    "\n"
   ]
  },
  {
   "cell_type": "code",
   "execution_count": 203,
   "metadata": {
    "id": "lKw0JsTeCHhv"
   },
   "outputs": [],
   "source": [
    "def get_image(data, img_id):\n",
    "    select_img = [img for img in data[\"images\"] if img[\"id\"] == img_id][0]\n",
    "    return select_img\n",
    "\n",
    "def get_annotations(data, img_id):\n",
    "    select_anno = [anno for anno in data[\"annotations\"] if anno[\"image_id\"] == img_id]\n",
    "    return select_anno\n",
    "# get the \"correct\" boundaries of the object in the image\n",
    "\n",
    "def get_coordinates(select_anno, category_id):\n",
    "    select_coordinates = [\n",
    "        anno[\"segmentation\"]\n",
    "        for anno in select_anno\n",
    "        if anno[\"category_id\"] == category_id\n",
    "    ]\n",
    "    return select_coordinates\n",
    "\n",
    "def get_bbox (select_anno, category_id):\n",
    "    bounding_box = [\n",
    "        anno[\"bbox\"]   \n",
    "        for anno in select_anno\n",
    "        if anno[\"category_id\"] == category_id        \n",
    "    ]\n",
    "    return bounding_box"
   ]
  },
  {
   "cell_type": "code",
   "execution_count": 204,
   "metadata": {
    "id": "lJMY9uDtCHhw"
   },
   "outputs": [],
   "source": [
    "with open(val_json) as f:\n",
    "    data = json.load(f)"
   ]
  },
  {
   "cell_type": "code",
   "execution_count": 205,
   "metadata": {
    "id": "NYFNla8eCHhw"
   },
   "outputs": [],
   "source": [
    "img_id = 22892\n",
    "# 'cat' has a category id of 17\n",
    "\n",
    "category_id = 17\n"
   ]
  },
  {
   "cell_type": "code",
   "execution_count": 206,
   "metadata": {
    "id": "inp3QWCmCHhx"
   },
   "outputs": [],
   "source": [
    "select_img = get_image(data, 22892)"
   ]
  },
  {
   "cell_type": "code",
   "execution_count": 207,
   "metadata": {
    "colab": {
     "base_uri": "https://localhost:8080/"
    },
    "id": "y2YmI9evCHhy",
    "outputId": "52536c7c-8dda-4add-fccd-c630407778f8"
   },
   "outputs": [
    {
     "data": {
      "text/plain": [
       "{'coco_url': 'http://images.cocodataset.org/val2017/000000022892.jpg',\n",
       " 'date_captured': '2013-11-18 15:11:22',\n",
       " 'file_name': '000000022892.jpg',\n",
       " 'flickr_url': 'http://farm1.staticflickr.com/243/521936273_d0817d38a4_z.jpg',\n",
       " 'height': 334,\n",
       " 'id': 22892,\n",
       " 'license': 1,\n",
       " 'width': 500}"
      ]
     },
     "execution_count": 207,
     "metadata": {
      "tags": []
     },
     "output_type": "execute_result"
    }
   ],
   "source": [
    "select_img"
   ]
  },
  {
   "cell_type": "code",
   "execution_count": 208,
   "metadata": {
    "id": "qibQhU7pCHh0"
   },
   "outputs": [],
   "source": [
    "select_anno = [anno for anno in data[\"annotations\"] if anno[\"image_id\"] == 22892]\n"
   ]
  },
  {
   "cell_type": "code",
   "execution_count": 209,
   "metadata": {
    "id": "ySMnAKPdCHh2"
   },
   "outputs": [],
   "source": [
    "coordinates = get_coordinates(select_anno, category_id)\n",
    "bbox = get_bbox(select_anno, category_id)\n"
   ]
  },
  {
   "cell_type": "code",
   "execution_count": 210,
   "metadata": {
    "colab": {
     "base_uri": "https://localhost:8080/"
    },
    "id": "lC1DfeSWCHh3",
    "outputId": "cb13bb93-d1e4-4d76-dce5-20928daa08c6"
   },
   "outputs": [
    {
     "name": "stdout",
     "output_type": "stream",
     "text": [
      "[[[402.24, 221.73, 381.41, 205.93, 367.76, 173.6, 362.73, 141.28, 353.39, 138.41, 341.9, 125.48, 338.31, 119.01, 328.97, 130.51, 320.35, 142.72, 307.42, 135.54, 303.83, 128.35, 295.21, 127.63, 285.16, 125.48, 277.97, 116.86, 263.61, 103.93, 246.37, 105.37, 237.75, 104.65, 241.34, 91.72, 249.96, 86.69, 260.02, 76.64, 264.33, 65.14, 275.82, 45.75, 295.21, 33.54, 324.66, 29.23, 342.62, 26.36, 350.52, 25.64, 369.2, 23.48, 385.72, 23.48, 403.67, 27.79, 436.0, 34.26, 471.91, 60.12, 484.12, 74.48, 499.2, 86.69, 499.2, 232.5, 457.54, 254.05, 434.56, 237.53, 400.08, 221.01]]]\n"
     ]
    }
   ],
   "source": [
    "print(coordinates)"
   ]
  },
  {
   "cell_type": "code",
   "execution_count": 211,
   "metadata": {
    "id": "m-RahW9rCHh3"
   },
   "outputs": [],
   "source": [
    "t1_path = \"../data/t1_annotate/output/sample_output_t1.csv\"\n",
    "# raw sample for task 1\n",
    "# rows 1-3 contain correct annotations\n",
    "# row 4 is incorrect (dog)\n",
    "# row 5 is incorrect (random)\n",
    "\n",
    "t1_df = pd.read_csv(t1_path)\n"
   ]
  },
  {
   "cell_type": "code",
   "execution_count": 212,
   "metadata": {
    "colab": {
     "base_uri": "https://localhost:8080/",
     "height": 309
    },
    "id": "yH3-JvmgCHh4",
    "outputId": "027dcbf7-d5ac-45a2-d6e8-d5e3e4afc60e"
   },
   "outputs": [
    {
     "data": {
      "text/html": [
       "<div>\n",
       "<style scoped>\n",
       "    .dataframe tbody tr th:only-of-type {\n",
       "        vertical-align: middle;\n",
       "    }\n",
       "\n",
       "    .dataframe tbody tr th {\n",
       "        vertical-align: top;\n",
       "    }\n",
       "\n",
       "    .dataframe thead th {\n",
       "        text-align: right;\n",
       "    }\n",
       "</style>\n",
       "<table border=\"1\" class=\"dataframe\">\n",
       "  <thead>\n",
       "    <tr style=\"text-align: right;\">\n",
       "      <th></th>\n",
       "      <th>duration</th>\n",
       "      <th>HITId</th>\n",
       "      <th>AssignmentId</th>\n",
       "      <th>WorkerId</th>\n",
       "      <th>AssignmentStatus</th>\n",
       "      <th>AutoApprovalTime</th>\n",
       "      <th>Approve</th>\n",
       "      <th>img_id</th>\n",
       "      <th>category_id</th>\n",
       "      <th>category_name</th>\n",
       "      <th>point_1</th>\n",
       "      <th>point_2</th>\n",
       "      <th>point_3</th>\n",
       "      <th>point_4</th>\n",
       "      <th>point_5</th>\n",
       "      <th>point_6</th>\n",
       "      <th>point_7</th>\n",
       "      <th>point_8</th>\n",
       "      <th>point_9</th>\n",
       "      <th>point_10</th>\n",
       "    </tr>\n",
       "  </thead>\n",
       "  <tbody>\n",
       "    <tr>\n",
       "      <th>0</th>\n",
       "      <td>0:03:30</td>\n",
       "      <td>test</td>\n",
       "      <td>assignment1</td>\n",
       "      <td>worker1</td>\n",
       "      <td>Submitted</td>\n",
       "      <td>2020-10-16 22:19:10+09:00</td>\n",
       "      <td>NaN</td>\n",
       "      <td>22892</td>\n",
       "      <td>17</td>\n",
       "      <td>cat</td>\n",
       "      <td>295,100</td>\n",
       "      <td>337,120</td>\n",
       "      <td>286,158</td>\n",
       "      <td>272,80</td>\n",
       "      <td>375,64</td>\n",
       "      <td>421,150</td>\n",
       "      <td>NaN</td>\n",
       "      <td>NaN</td>\n",
       "      <td>NaN</td>\n",
       "      <td>NaN</td>\n",
       "    </tr>\n",
       "    <tr>\n",
       "      <th>1</th>\n",
       "      <td>0:04:54</td>\n",
       "      <td>test</td>\n",
       "      <td>assignment2</td>\n",
       "      <td>worker2</td>\n",
       "      <td>Submitted</td>\n",
       "      <td>2020-10-16 23:06:31+09:00</td>\n",
       "      <td>NaN</td>\n",
       "      <td>22892</td>\n",
       "      <td>17</td>\n",
       "      <td>cat</td>\n",
       "      <td>303,120</td>\n",
       "      <td>239,100</td>\n",
       "      <td>380,90</td>\n",
       "      <td>390,96</td>\n",
       "      <td>457,128</td>\n",
       "      <td>251,101</td>\n",
       "      <td>397,213</td>\n",
       "      <td>472,102</td>\n",
       "      <td>367,170</td>\n",
       "      <td>445,150</td>\n",
       "    </tr>\n",
       "    <tr>\n",
       "      <th>2</th>\n",
       "      <td>0:05:13</td>\n",
       "      <td>test</td>\n",
       "      <td>assignment3</td>\n",
       "      <td>worker3</td>\n",
       "      <td>Submitted</td>\n",
       "      <td>2020-10-16 23:17:39+09:00</td>\n",
       "      <td>NaN</td>\n",
       "      <td>22892</td>\n",
       "      <td>17</td>\n",
       "      <td>cat</td>\n",
       "      <td>313,81</td>\n",
       "      <td>384,67</td>\n",
       "      <td>316,75</td>\n",
       "      <td>339,80</td>\n",
       "      <td>375,50</td>\n",
       "      <td>462,123</td>\n",
       "      <td>456,258</td>\n",
       "      <td>NaN</td>\n",
       "      <td>NaN</td>\n",
       "      <td>NaN</td>\n",
       "    </tr>\n",
       "    <tr>\n",
       "      <th>3</th>\n",
       "      <td>0:03:32</td>\n",
       "      <td>test</td>\n",
       "      <td>assignment4</td>\n",
       "      <td>worker4</td>\n",
       "      <td>Submitted</td>\n",
       "      <td>2020-10-16 23:18:01+09:00</td>\n",
       "      <td>NaN</td>\n",
       "      <td>22892</td>\n",
       "      <td>17</td>\n",
       "      <td>cat</td>\n",
       "      <td>59,192</td>\n",
       "      <td>78,188</td>\n",
       "      <td>43,213</td>\n",
       "      <td>105,210</td>\n",
       "      <td>149,67</td>\n",
       "      <td>178,97</td>\n",
       "      <td>238,158</td>\n",
       "      <td>206,90</td>\n",
       "      <td>NaN</td>\n",
       "      <td>NaN</td>\n",
       "    </tr>\n",
       "    <tr>\n",
       "      <th>4</th>\n",
       "      <td>0:06:34</td>\n",
       "      <td>test</td>\n",
       "      <td>assignment5</td>\n",
       "      <td>worker5</td>\n",
       "      <td>Submitted</td>\n",
       "      <td>2020-10-16 23:41:06+09:00</td>\n",
       "      <td>NaN</td>\n",
       "      <td>22892</td>\n",
       "      <td>17</td>\n",
       "      <td>cat</td>\n",
       "      <td>407,300</td>\n",
       "      <td>407,301</td>\n",
       "      <td>408,303</td>\n",
       "      <td>400,299</td>\n",
       "      <td>413,289</td>\n",
       "      <td>50,30</td>\n",
       "      <td>409,123</td>\n",
       "      <td>32,15</td>\n",
       "      <td>NaN</td>\n",
       "      <td>NaN</td>\n",
       "    </tr>\n",
       "  </tbody>\n",
       "</table>\n",
       "</div>"
      ],
      "text/plain": [
       "  duration HITId AssignmentId WorkerId  ...  point_7  point_8  point_9  point_10\n",
       "0  0:03:30  test  assignment1  worker1  ...      NaN      NaN      NaN       NaN\n",
       "1  0:04:54  test  assignment2  worker2  ...  397,213  472,102  367,170   445,150\n",
       "2  0:05:13  test  assignment3  worker3  ...  456,258      NaN      NaN       NaN\n",
       "3  0:03:32  test  assignment4  worker4  ...  238,158   206,90      NaN       NaN\n",
       "4  0:06:34  test  assignment5  worker5  ...  409,123    32,15      NaN       NaN\n",
       "\n",
       "[5 rows x 20 columns]"
      ]
     },
     "execution_count": 212,
     "metadata": {
      "tags": []
     },
     "output_type": "execute_result"
    }
   ],
   "source": [
    "t1_df"
   ]
  },
  {
   "cell_type": "code",
   "execution_count": 213,
   "metadata": {
    "id": "TfFV9JPLCHh4"
   },
   "outputs": [],
   "source": [
    "t2_path = \"../data/t2_guess/output/sample_output_t2.csv\""
   ]
  },
  {
   "cell_type": "code",
   "execution_count": 214,
   "metadata": {
    "id": "G8hb7RByCHh5"
   },
   "outputs": [],
   "source": [
    "t2_df = pd.read_csv(t2_path)"
   ]
  },
  {
   "cell_type": "code",
   "execution_count": 215,
   "metadata": {
    "colab": {
     "base_uri": "https://localhost:8080/",
     "height": 422
    },
    "id": "0jSV7crSIeid",
    "outputId": "32ea5909-e20b-4b7f-d42c-197a3bf52977"
   },
   "outputs": [
    {
     "data": {
      "text/html": [
       "<div>\n",
       "<style scoped>\n",
       "    .dataframe tbody tr th:only-of-type {\n",
       "        vertical-align: middle;\n",
       "    }\n",
       "\n",
       "    .dataframe tbody tr th {\n",
       "        vertical-align: top;\n",
       "    }\n",
       "\n",
       "    .dataframe thead th {\n",
       "        text-align: right;\n",
       "    }\n",
       "</style>\n",
       "<table border=\"1\" class=\"dataframe\">\n",
       "  <thead>\n",
       "    <tr style=\"text-align: right;\">\n",
       "      <th></th>\n",
       "      <th>duration</th>\n",
       "      <th>HITId</th>\n",
       "      <th>AssignmentId</th>\n",
       "      <th>WorkerId</th>\n",
       "      <th>AssignmentStatus</th>\n",
       "      <th>AutoApprovalTime</th>\n",
       "      <th>Approve</th>\n",
       "      <th>img_id</th>\n",
       "      <th>category_id</th>\n",
       "      <th>category_name</th>\n",
       "      <th>input_id</th>\n",
       "      <th>guess_1</th>\n",
       "      <th>guess_2</th>\n",
       "      <th>guess_3</th>\n",
       "      <th>guess_4</th>\n",
       "      <th>guess_5</th>\n",
       "      <th>Unnamed: 16</th>\n",
       "      <th>Unnamed: 17</th>\n",
       "      <th>Unnamed: 18</th>\n",
       "      <th>Unnamed: 19</th>\n",
       "      <th>Unnamed: 20</th>\n",
       "    </tr>\n",
       "  </thead>\n",
       "  <tbody>\n",
       "    <tr>\n",
       "      <th>0</th>\n",
       "      <td>0:03:30</td>\n",
       "      <td>test</td>\n",
       "      <td>assignment21</td>\n",
       "      <td>worker21</td>\n",
       "      <td>Submitted</td>\n",
       "      <td>2020-10-16 22:19:10+09:00</td>\n",
       "      <td>NaN</td>\n",
       "      <td>22892</td>\n",
       "      <td>17</td>\n",
       "      <td>cat</td>\n",
       "      <td>assignment1</td>\n",
       "      <td>tiger</td>\n",
       "      <td>chimpanzee</td>\n",
       "      <td>cat</td>\n",
       "      <td>NaN</td>\n",
       "      <td>NaN</td>\n",
       "      <td>NaN</td>\n",
       "      <td>NaN</td>\n",
       "      <td>NaN</td>\n",
       "      <td>NaN</td>\n",
       "      <td>NaN</td>\n",
       "    </tr>\n",
       "    <tr>\n",
       "      <th>1</th>\n",
       "      <td>0:04:54</td>\n",
       "      <td>test</td>\n",
       "      <td>assignment22</td>\n",
       "      <td>worker22</td>\n",
       "      <td>Submitted</td>\n",
       "      <td>2020-10-16 23:06:31+09:00</td>\n",
       "      <td>NaN</td>\n",
       "      <td>22892</td>\n",
       "      <td>17</td>\n",
       "      <td>cat</td>\n",
       "      <td>assignment1</td>\n",
       "      <td>cat</td>\n",
       "      <td>NaN</td>\n",
       "      <td>NaN</td>\n",
       "      <td>NaN</td>\n",
       "      <td>NaN</td>\n",
       "      <td>NaN</td>\n",
       "      <td>NaN</td>\n",
       "      <td>NaN</td>\n",
       "      <td>NaN</td>\n",
       "      <td>NaN</td>\n",
       "    </tr>\n",
       "    <tr>\n",
       "      <th>2</th>\n",
       "      <td>0:05:13</td>\n",
       "      <td>test</td>\n",
       "      <td>assignment23</td>\n",
       "      <td>worker23</td>\n",
       "      <td>Submitted</td>\n",
       "      <td>2020-10-16 23:17:39+09:00</td>\n",
       "      <td>NaN</td>\n",
       "      <td>22892</td>\n",
       "      <td>17</td>\n",
       "      <td>cat</td>\n",
       "      <td>assignment1</td>\n",
       "      <td>dog</td>\n",
       "      <td>cat</td>\n",
       "      <td>NaN</td>\n",
       "      <td>NaN</td>\n",
       "      <td>NaN</td>\n",
       "      <td>NaN</td>\n",
       "      <td>NaN</td>\n",
       "      <td>NaN</td>\n",
       "      <td>NaN</td>\n",
       "      <td>NaN</td>\n",
       "    </tr>\n",
       "    <tr>\n",
       "      <th>3</th>\n",
       "      <td>0:03:32</td>\n",
       "      <td>test</td>\n",
       "      <td>assignment24</td>\n",
       "      <td>worker24</td>\n",
       "      <td>Submitted</td>\n",
       "      <td>2020-10-16 23:18:01+09:00</td>\n",
       "      <td>NaN</td>\n",
       "      <td>22892</td>\n",
       "      <td>17</td>\n",
       "      <td>cat</td>\n",
       "      <td>assignment2</td>\n",
       "      <td>asdf</td>\n",
       "      <td>aszxvczxv</td>\n",
       "      <td>ss</td>\n",
       "      <td>aa</td>\n",
       "      <td>g</td>\n",
       "      <td>NaN</td>\n",
       "      <td>NaN</td>\n",
       "      <td>NaN</td>\n",
       "      <td>NaN</td>\n",
       "      <td>NaN</td>\n",
       "    </tr>\n",
       "    <tr>\n",
       "      <th>4</th>\n",
       "      <td>0:06:34</td>\n",
       "      <td>test</td>\n",
       "      <td>assignment25</td>\n",
       "      <td>worker25</td>\n",
       "      <td>Submitted</td>\n",
       "      <td>2020-10-16 23:41:06+09:00</td>\n",
       "      <td>NaN</td>\n",
       "      <td>22892</td>\n",
       "      <td>17</td>\n",
       "      <td>cat</td>\n",
       "      <td>assignment2</td>\n",
       "      <td>cat</td>\n",
       "      <td>NaN</td>\n",
       "      <td>NaN</td>\n",
       "      <td>NaN</td>\n",
       "      <td>NaN</td>\n",
       "      <td>NaN</td>\n",
       "      <td>NaN</td>\n",
       "      <td>NaN</td>\n",
       "      <td>NaN</td>\n",
       "      <td>NaN</td>\n",
       "    </tr>\n",
       "    <tr>\n",
       "      <th>5</th>\n",
       "      <td>0:05:13</td>\n",
       "      <td>test</td>\n",
       "      <td>assignment26</td>\n",
       "      <td>worker26</td>\n",
       "      <td>Submitted</td>\n",
       "      <td>2020-10-16 23:18:01+09:00</td>\n",
       "      <td>NaN</td>\n",
       "      <td>22892</td>\n",
       "      <td>17</td>\n",
       "      <td>cat</td>\n",
       "      <td>assignment3</td>\n",
       "      <td>aardvark</td>\n",
       "      <td>armadillo</td>\n",
       "      <td>orangutan</td>\n",
       "      <td>cat</td>\n",
       "      <td>NaN</td>\n",
       "      <td>NaN</td>\n",
       "      <td>NaN</td>\n",
       "      <td>NaN</td>\n",
       "      <td>NaN</td>\n",
       "      <td>NaN</td>\n",
       "    </tr>\n",
       "    <tr>\n",
       "      <th>6</th>\n",
       "      <td>0:06:34</td>\n",
       "      <td>test</td>\n",
       "      <td>assignment27</td>\n",
       "      <td>worker27</td>\n",
       "      <td>Submitted</td>\n",
       "      <td>2020-10-16 23:41:06+09:00</td>\n",
       "      <td>NaN</td>\n",
       "      <td>22892</td>\n",
       "      <td>17</td>\n",
       "      <td>cat</td>\n",
       "      <td>assignment4</td>\n",
       "      <td>dog</td>\n",
       "      <td>greyhound</td>\n",
       "      <td>beagle</td>\n",
       "      <td>puppers</td>\n",
       "      <td>doge</td>\n",
       "      <td>NaN</td>\n",
       "      <td>NaN</td>\n",
       "      <td>NaN</td>\n",
       "      <td>NaN</td>\n",
       "      <td>NaN</td>\n",
       "    </tr>\n",
       "  </tbody>\n",
       "</table>\n",
       "</div>"
      ],
      "text/plain": [
       "  duration HITId  AssignmentId  ... Unnamed: 18 Unnamed: 19 Unnamed: 20\n",
       "0  0:03:30  test  assignment21  ...         NaN         NaN         NaN\n",
       "1  0:04:54  test  assignment22  ...         NaN         NaN         NaN\n",
       "2  0:05:13  test  assignment23  ...         NaN         NaN         NaN\n",
       "3  0:03:32  test  assignment24  ...         NaN         NaN         NaN\n",
       "4  0:06:34  test  assignment25  ...         NaN         NaN         NaN\n",
       "5  0:05:13  test  assignment26  ...         NaN         NaN         NaN\n",
       "6  0:06:34  test  assignment27  ...         NaN         NaN         NaN\n",
       "\n",
       "[7 rows x 21 columns]"
      ]
     },
     "execution_count": 215,
     "metadata": {
      "tags": []
     },
     "output_type": "execute_result"
    }
   ],
   "source": [
    "t2_df"
   ]
  },
  {
   "cell_type": "code",
   "execution_count": 216,
   "metadata": {
    "id": "ih4e3vw3CHh5"
   },
   "outputs": [],
   "source": [
    "# Task 1 Quality Control and Aggregation\n",
    "from numpy import mean\n",
    "from numpy import percentile\n",
    "\n",
    "average_coordinate = [0]*len(t1_df)\n",
    "for i in range(len(t1_df)):\n",
    "  average_coordinate[i] = mean([int(str(t1_df[f\"point_{j}\"][i]).replace(',','')) for j in range(1,11) if str(t1_df[f\"point_{j}\"][i]) != \"nan\"])\n",
    "\n",
    "lower_cutoff = percentile(average_coordinate, 25)\n",
    "upper_cutoff = percentile(average_coordinate, 75)\n",
    "\n",
    "good_worker_indexes = []\n",
    "for i in range(len(average_coordinate)):\n",
    "  if (average_coordinate[i] <= upper_cutoff and average_coordinate[i] >= lower_cutoff):\n",
    "    good_worker_indexes.append(i)\n",
    "\n",
    "average_coordinate_good_workers = []\n",
    "for i in range(len(t1_df)):\n",
    "  if i not in good_worker_indexes:\n",
    "     t1_df = t1_df.drop(index = i)\n",
    "  else:\n",
    "    average_coordinate_good_workers.append(average_coordinate[i])\n",
    " \n",
    "t1_df[\"avg_point\"] = average_coordinate_good_workers\n",
    "best_coordinate = mean(average_coordinate_good_workers)    \n",
    "\n",
    "t1_df.to_csv('sample_output_t1_filtered.csv',index=False)\n"
   ]
  },
  {
   "cell_type": "code",
   "execution_count": 217,
   "metadata": {
    "id": "HLv3i_GcXpZQ"
   },
   "outputs": [],
   "source": [
    "# Task 2 Quality Control and Aggregation (Majority Vote)\n",
    "\n",
    "from statistics import mode\n",
    "\n",
    "final_guess = [\"\"]*len(t2_df)\n",
    "for i in range(len(t2_df)):\n",
    "  final_guess[i] = [str(t2_df[f\"guess_{j}\"][i]) for j in range(1,6) if str(t2_df[f\"guess_{j}\"][i]) != \"nan\"][-1]\n",
    "\n",
    "t2_df[\"final_guess\"] = final_guess\n",
    "label = mode(final_guess)\n",
    "\n",
    "for i in range(len(final_guess)):\n",
    "  if (final_guess[i] != label):\n",
    "      t2_df = t2_df.drop(index = i)\n",
    "\n",
    "t2_df.to_csv(\"sample_output_t2_filtered.csv\",index=False)"
   ]
  },
  {
   "cell_type": "code",
   "execution_count": 217,
   "metadata": {
    "id": "fgMjQzGJb2Gt"
   },
   "outputs": [],
   "source": []
  }
 ],
 "metadata": {
  "colab": {
   "collapsed_sections": [],
   "name": "data_processing.ipynb",
   "provenance": []
  },
  "kernelspec": {
   "display_name": "Python 3",
   "language": "python",
   "name": "python3"
  },
  "language_info": {
   "codemirror_mode": {
    "name": "ipython",
    "version": 3
   },
   "file_extension": ".py",
   "mimetype": "text/x-python",
   "name": "python",
   "nbconvert_exporter": "python",
   "pygments_lexer": "ipython3",
   "version": "3.8.5"
  }
 },
 "nbformat": 4,
 "nbformat_minor": 1
}
